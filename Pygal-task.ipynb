{
 "cells": [
  {
   "cell_type": "markdown",
   "id": "60fddedc",
   "metadata": {},
   "source": [
    "#pip install pygal\n",
    "\n",
    "Source= https://analyticsindiamag.com/complete-tutorial-on-pygal-a-python-tool-for-interactive-and-scalable-visualization/"
   ]
  },
  {
   "cell_type": "code",
   "execution_count": 10,
   "id": "00fefc9f",
   "metadata": {},
   "outputs": [],
   "source": [
    "import pandas as pd\n",
    "\n",
    "import pygal\n",
    "import os\n",
    "os.chdir(\"H:/iAnalyst/Pygal_lib\")\n"
   ]
  },
  {
   "cell_type": "markdown",
   "id": "5a40f9d7",
   "metadata": {},
   "source": [
    "We will be working with an Advertisement dataset that contains different attributes like ‘TV’, ‘Radio’, etc. and a target variable ‘Sales’."
   ]
  },
  {
   "cell_type": "code",
   "execution_count": 11,
   "id": "6c8220bd",
   "metadata": {
    "scrolled": true
   },
   "outputs": [
    {
     "data": {
      "text/html": [
       "<div>\n",
       "<style scoped>\n",
       "    .dataframe tbody tr th:only-of-type {\n",
       "        vertical-align: middle;\n",
       "    }\n",
       "\n",
       "    .dataframe tbody tr th {\n",
       "        vertical-align: top;\n",
       "    }\n",
       "\n",
       "    .dataframe thead th {\n",
       "        text-align: right;\n",
       "    }\n",
       "</style>\n",
       "<table border=\"1\" class=\"dataframe\">\n",
       "  <thead>\n",
       "    <tr style=\"text-align: right;\">\n",
       "      <th></th>\n",
       "      <th>Unnamed: 0</th>\n",
       "      <th>TV</th>\n",
       "      <th>Radio</th>\n",
       "      <th>Newspaper</th>\n",
       "      <th>Sales</th>\n",
       "    </tr>\n",
       "  </thead>\n",
       "  <tbody>\n",
       "    <tr>\n",
       "      <th>0</th>\n",
       "      <td>1</td>\n",
       "      <td>230.1</td>\n",
       "      <td>37.8</td>\n",
       "      <td>69.2</td>\n",
       "      <td>22.1</td>\n",
       "    </tr>\n",
       "    <tr>\n",
       "      <th>1</th>\n",
       "      <td>2</td>\n",
       "      <td>44.5</td>\n",
       "      <td>39.3</td>\n",
       "      <td>45.1</td>\n",
       "      <td>10.4</td>\n",
       "    </tr>\n",
       "    <tr>\n",
       "      <th>2</th>\n",
       "      <td>3</td>\n",
       "      <td>17.2</td>\n",
       "      <td>45.9</td>\n",
       "      <td>69.3</td>\n",
       "      <td>9.3</td>\n",
       "    </tr>\n",
       "    <tr>\n",
       "      <th>3</th>\n",
       "      <td>4</td>\n",
       "      <td>151.5</td>\n",
       "      <td>41.3</td>\n",
       "      <td>58.5</td>\n",
       "      <td>18.5</td>\n",
       "    </tr>\n",
       "    <tr>\n",
       "      <th>4</th>\n",
       "      <td>5</td>\n",
       "      <td>180.8</td>\n",
       "      <td>10.8</td>\n",
       "      <td>58.4</td>\n",
       "      <td>12.9</td>\n",
       "    </tr>\n",
       "  </tbody>\n",
       "</table>\n",
       "</div>"
      ],
      "text/plain": [
       "   Unnamed: 0     TV  Radio  Newspaper  Sales\n",
       "0           1  230.1   37.8       69.2   22.1\n",
       "1           2   44.5   39.3       45.1   10.4\n",
       "2           3   17.2   45.9       69.3    9.3\n",
       "3           4  151.5   41.3       58.5   18.5\n",
       "4           5  180.8   10.8       58.4   12.9"
      ]
     },
     "execution_count": 11,
     "metadata": {},
     "output_type": "execute_result"
    }
   ],
   "source": [
    "df = pd.read_csv(\"Advertising.csv\")\n",
    "\n",
    "df.head()"
   ]
  },
  {
   "cell_type": "markdown",
   "id": "df9e5546",
   "metadata": {},
   "source": [
    "# BAR charts"
   ]
  },
  {
   "cell_type": "code",
   "execution_count": 12,
   "id": "43650a05",
   "metadata": {},
   "outputs": [],
   "source": [
    "bar_graphs = pygal.Bar()   \n",
    "\n",
    "bar_graphs.add('Sales', df['Sales'][:5]) \n",
    "\n",
    "bar_graphs.render_to_file('bar1.svg')   #check in the working folder"
   ]
  },
  {
   "cell_type": "code",
   "execution_count": 13,
   "id": "4818fe51",
   "metadata": {},
   "outputs": [],
   "source": [
    "bar_graphs.add('Sales', df['Sales'][:5])\n",
    "\n",
    "bar_graphs.add('TV', df['TV'][:5])\n",
    "\n",
    "bar_graphs.render_to_file('bar2.svg')"
   ]
  },
  {
   "cell_type": "markdown",
   "id": "178f5a05",
   "metadata": {},
   "source": [
    "# Line charts"
   ]
  },
  {
   "cell_type": "code",
   "execution_count": 14,
   "id": "adafab04",
   "metadata": {},
   "outputs": [],
   "source": [
    "line_chart = pygal.Line()\n",
    "\n",
    "line_chart.add('Sales', df['Sales'][:15])\n",
    "\n",
    "line_chart.render_to_file('line1.svg') "
   ]
  },
  {
   "cell_type": "code",
   "execution_count": 15,
   "id": "648b1e4a",
   "metadata": {},
   "outputs": [],
   "source": [
    "line_chart.add('Sales', df['Sales'][:15])\n",
    "\n",
    "line_chart.add('TV', df['TV'][:15])\n",
    "\n",
    "line_chart.add('Newspaper', df['Newspaper'][:15])\n",
    "\n",
    "line_chart.add('Radio', df['Radio'][:15])\n",
    "\n",
    "line_chart.render_to_file('line2.svg')"
   ]
  },
  {
   "cell_type": "markdown",
   "id": "8de96df5",
   "metadata": {},
   "source": [
    "# Box Plots"
   ]
  },
  {
   "cell_type": "code",
   "execution_count": 16,
   "id": "4b33ace1",
   "metadata": {},
   "outputs": [],
   "source": [
    "box_plot = pygal.Box()\n",
    "\n",
    "box_plot.title = 'Advertising'\n",
    "\n",
    "box_plot.add('TV', df['TV'])\n",
    "\n",
    "box_plot.add('Radio', df['Radio'])\n",
    "\n",
    "box_plot.add('Newspaper', df['Newspaper'])\n",
    "\n",
    "box_plot.render_to_file('box1.svg')"
   ]
  },
  {
   "cell_type": "markdown",
   "id": "05322056",
   "metadata": {},
   "source": [
    "# Funnel Charts"
   ]
  },
  {
   "cell_type": "markdown",
   "id": "dfa5cb19",
   "metadata": {},
   "source": [
    "Funnel charts are used to visualize the progressive reduction or expansion of data when it passes from different phases. It is generally used to represent the Sales data."
   ]
  },
  {
   "cell_type": "code",
   "execution_count": 19,
   "id": "2eafd0c0",
   "metadata": {},
   "outputs": [],
   "source": [
    "funnel_chart = pygal.Funnel()\n",
    "\n",
    "funnel_chart.title = 'Advrtising'"
   ]
  },
  {
   "cell_type": "code",
   "execution_count": 20,
   "id": "07c5e8f8",
   "metadata": {},
   "outputs": [],
   "source": [
    "funnel_chart.add('TV', df['TV'][:15])\n",
    "\n",
    "funnel_chart.add('Radio', df['Radio'][:15])\n",
    "\n",
    "funnel_chart.add('Newspaper', df['Newspaper'][:15])\n",
    "\n",
    "funnel_chart.render_to_file('funnel1.svg')"
   ]
  },
  {
   "cell_type": "markdown",
   "id": "065b0754",
   "metadata": {},
   "source": [
    "# Gauge Chart"
   ]
  },
  {
   "cell_type": "markdown",
   "id": "b8a71d7e",
   "metadata": {},
   "source": [
    "A gauge chart combines the doughnut chart and pie chart, it is used to visualize the data at a particular value. "
   ]
  },
  {
   "cell_type": "code",
   "execution_count": 21,
   "id": "10221944",
   "metadata": {},
   "outputs": [],
   "source": [
    "gauge_chart = pygal.Gauge(human_readable=True)\n",
    "\n",
    "gauge_chart.title = 'Advertising'\n",
    "\n",
    "gauge_chart.range = [0, 500]\n",
    "\n",
    "gauge_chart.add('Sales', df['Sales'][:1])\n",
    "\n",
    "gauge_chart.add('TV', df['TV'][:1])\n",
    "\n",
    "gauge_chart.add('Radio', df['Radio'][:1])\n",
    "\n",
    "gauge_chart.add('Newspaper', df['Newspaper'][:1])\n",
    "\n",
    "gauge_chart.render_to_file('gauge.svg')"
   ]
  },
  {
   "cell_type": "markdown",
   "id": "46c92118",
   "metadata": {},
   "source": [
    "# Treemap"
   ]
  },
  {
   "cell_type": "markdown",
   "id": "a0062355",
   "metadata": {},
   "source": [
    "Treemaps are used to represent data in nested forms usually in rectangles shape. The size of the map resent the value i.e higher the value greater is the size of the treemap."
   ]
  },
  {
   "cell_type": "code",
   "execution_count": 22,
   "id": "9a182dfd",
   "metadata": {},
   "outputs": [],
   "source": [
    "treemap = pygal.Treemap()\n",
    "\n",
    "treemap.title = 'Advertisement TreeMap'\n",
    "\n",
    "treemap.add('Sales', df['Sales'][:10])\n",
    "\n",
    "treemap.add('TV', df['TV'][:10])\n",
    "\n",
    "treemap.add('Radio', df['Radio'][:10])\n",
    "\n",
    "treemap.add('Newspaper', df['Newspaper'][:10])\n",
    "\n",
    "treemap.render_to_file('treemap1.svg')"
   ]
  },
  {
   "cell_type": "code",
   "execution_count": null,
   "id": "486bcd3e",
   "metadata": {},
   "outputs": [],
   "source": []
  }
 ],
 "metadata": {
  "kernelspec": {
   "display_name": "Python 3",
   "language": "python",
   "name": "python3"
  },
  "language_info": {
   "codemirror_mode": {
    "name": "ipython",
    "version": 3
   },
   "file_extension": ".py",
   "mimetype": "text/x-python",
   "name": "python",
   "nbconvert_exporter": "python",
   "pygments_lexer": "ipython3",
   "version": "3.8.8"
  }
 },
 "nbformat": 4,
 "nbformat_minor": 5
}
